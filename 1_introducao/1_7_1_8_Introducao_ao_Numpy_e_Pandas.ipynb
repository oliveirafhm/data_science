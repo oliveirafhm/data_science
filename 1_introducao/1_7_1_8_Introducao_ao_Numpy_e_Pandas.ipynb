{
  "nbformat": 4,
  "nbformat_minor": 0,
  "metadata": {
    "colab": {
      "name": "1.7/1.8 - Introdução ao Numpy e Pandas.ipynb",
      "provenance": [],
      "collapsed_sections": [
        "qDVK8RpWd7KO",
        "zicBbUJzJ50D",
        "fUC6ol4wKEF4"
      ],
      "include_colab_link": true
    },
    "kernelspec": {
      "name": "python3",
      "display_name": "Python 3"
    }
  },
  "cells": [
    {
      "cell_type": "markdown",
      "metadata": {
        "id": "view-in-github",
        "colab_type": "text"
      },
      "source": [
        "<a href=\"https://colab.research.google.com/github/oliveirafhm/data_science/blob/master/1_introducao/1_7_1_8_Introducao_ao_Numpy_e_Pandas.ipynb\" target=\"_parent\"><img src=\"https://colab.research.google.com/assets/colab-badge.svg\" alt=\"Open In Colab\"/></a>"
      ]
    },
    {
      "cell_type": "markdown",
      "metadata": {
        "id": "e23TBdAKXcDK"
      },
      "source": [
        "## Exemplo Numpy"
      ]
    },
    {
      "cell_type": "code",
      "metadata": {
        "id": "0e0j-JmPUx8X",
        "colab": {
          "base_uri": "https://localhost:8080/"
        },
        "outputId": "2791fb88-5ad8-4666-d7c2-c3b26727aa18"
      },
      "source": [
        "numbers = [1,2,3,4,5]"
      ],
      "execution_count": null,
      "outputs": [
        {
          "output_type": "execute_result",
          "data": {
            "text/plain": [
              "[1, 2, 3, 4, 5]"
            ]
          },
          "metadata": {
            "tags": []
          },
          "execution_count": 2
        }
      ]
    },
    {
      "cell_type": "code",
      "metadata": {
        "id": "n9ToXcbRV-9c"
      },
      "source": [
        "import numpy"
      ],
      "execution_count": null,
      "outputs": []
    },
    {
      "cell_type": "code",
      "metadata": {
        "id": "kwRouFeHVwaH",
        "colab": {
          "base_uri": "https://localhost:8080/"
        },
        "outputId": "bcb034aa-981d-4f2e-9a61-7bacbd8718e6"
      },
      "source": [
        "numpy.mean(numbers)"
      ],
      "execution_count": null,
      "outputs": [
        {
          "output_type": "execute_result",
          "data": {
            "text/plain": [
              "3.0"
            ]
          },
          "metadata": {
            "tags": []
          },
          "execution_count": 4
        }
      ]
    },
    {
      "cell_type": "code",
      "metadata": {
        "id": "1o4542zLX4sg",
        "colab": {
          "base_uri": "https://localhost:8080/"
        },
        "outputId": "47fb76da-7d9e-4c7e-a147-3317293990c9"
      },
      "source": [
        "numpy.median(numbers)"
      ],
      "execution_count": null,
      "outputs": [
        {
          "output_type": "execute_result",
          "data": {
            "text/plain": [
              "3.0"
            ]
          },
          "metadata": {
            "tags": []
          },
          "execution_count": 5
        }
      ]
    },
    {
      "cell_type": "code",
      "metadata": {
        "id": "nLL-_L_xYNx6",
        "colab": {
          "base_uri": "https://localhost:8080/"
        },
        "outputId": "4dc539c9-46dc-446f-e8a4-06e279b586d6"
      },
      "source": [
        "numpy.std(numbers)"
      ],
      "execution_count": null,
      "outputs": [
        {
          "output_type": "execute_result",
          "data": {
            "text/plain": [
              "1.4142135623730951"
            ]
          },
          "metadata": {
            "tags": []
          },
          "execution_count": 6
        }
      ]
    },
    {
      "cell_type": "markdown",
      "metadata": {
        "id": "lTsuo-5KYqZG"
      },
      "source": [
        "### Agora tente você mesmo!\n",
        "### 1.8 - Exercícios de NumPy (submeter pelo Canvas)"
      ]
    },
    {
      "cell_type": "code",
      "metadata": {
        "id": "CR-vtw4HYpNa",
        "colab": {
          "base_uri": "https://localhost:8080/",
          "height": 69
        },
        "outputId": "dc13301e-59ff-4302-d4a7-0dd196d02a1e"
      },
      "source": [
        "# Exercício 1\n",
        "# Qual será a média aritmética, a mediana e o desvio padrão para os seguintes arrays?\n",
        "# Tente resolver sem utilizar a programação e depois confira utilizando as funções do numpy.\n",
        "array1 = [1,2,3,5,7]\n",
        "array2 = [1,2,3,5,7,9]\n",
        "\n",
        "import numpy as np\n",
        "print(np.mean(array1))\n",
        "print(np.median(array1))\n",
        "print(np.std(array1))\n",
        "\n",
        "# Exercício 2\n",
        "# Agora que você já aprendeu como calcular a média aritmética, a mediana e o desvio padrão.\n",
        "# Faça a programação de suas próprias funções em Python para calcular esses três valores,\n",
        "# isso sem utilizar o Numpy ou qualquer outra função pronta.\n"
      ],
      "execution_count": null,
      "outputs": [
        {
          "output_type": "stream",
          "text": [
            "3.6\n",
            "3.0\n",
            "2.1540659228538015\n"
          ],
          "name": "stdout"
        }
      ]
    },
    {
      "cell_type": "code",
      "metadata": {
        "colab": {
          "base_uri": "https://localhost:8080/"
        },
        "id": "v7sjDkhmN9k3",
        "outputId": "98f25f37-e2e3-451a-d902-29634993836d"
      },
      "source": [
        "# Exemplo/template para o exercício 2\n",
        "def media(x):\n",
        "  m = sum(x)/len(x)\n",
        "  return m\n",
        "\n",
        "array1 = [1,2,3,5,7]\n",
        "media(array1)"
      ],
      "execution_count": null,
      "outputs": [
        {
          "output_type": "execute_result",
          "data": {
            "text/plain": [
              "3.6"
            ]
          },
          "metadata": {
            "tags": []
          },
          "execution_count": 7
        }
      ]
    },
    {
      "cell_type": "markdown",
      "metadata": {
        "id": "qDVK8RpWd7KO"
      },
      "source": [
        "###Playground de Numpy"
      ]
    },
    {
      "cell_type": "code",
      "metadata": {
        "id": "b9KC4NageBhz"
      },
      "source": [
        "import numpy as np\n",
        "\n",
        "'''\n",
        "O código a seguir é para ajudá-lo a utilizar o Numpy, que é uma biblioteca\n",
        "que fornece funções que são especialmente úteis quando você precisa\n",
        "trabalhar com grandes arrays e matrizes de dados numéricos, como fazer\n",
        "multiplicações matriciais. Além disso, o Numpy é amplamente testado e\n",
        "otimizado para que seja rápido, muito mais rápido do que se você estivesse\n",
        "trabalhando com listas do Python diretamente.\n",
        "'''\n",
        "\n",
        "'''\n",
        "A classe array é a base do Numpy, e os array são como as listas do Python,\n",
        "exceto que tudo dentro de um array numpy deve ser do mesmo tipo, int ou float.\n",
        "'''\n",
        "\n",
        "# Troque de False para True para visualizar os numpy arrays em ação\n",
        "\n",
        "if (False):\n",
        "  array = np.array([1, 4, 5, 8], float)\n",
        "  print(array)\n",
        "  print(\"\")\n",
        "  array = np.array([[1, 2, 3], [4, 5, 6]], float) # Array 2D (matriz)\n",
        "  print(array)\n",
        "  \n",
        "'''\n",
        "Você pode indexar, cortar, e manipular um array numpy assim como uma\n",
        "uma lista no Python\n",
        "'''\n",
        "\n",
        "if(False):\n",
        "  array = np.array([1, 4, 5, 8], float)\n",
        "  print(array)\n",
        "  print(\"\")\n",
        "  print(array[1])\n",
        "  print(\"\")\n",
        "  print(array[:2])\n",
        "  print(\"\")\n",
        "  array[1] = 5.0\n",
        "  print(array[1])\n",
        "\n",
        "# Também com matrizes\n",
        "if(False):\n",
        "  two_D_array = np.array([[1, 2, 3], [4, 5, 6]], float)\n",
        "  print(two_D_array)\n",
        "  print(\"\")\n",
        "  print(two_D_array[1][1])\n",
        "  print(\"\")\n",
        "  print(two_D_array[1, :])\n",
        "  print(\"\")\n",
        "  print(two_D_array[:, 2])\n",
        "\n",
        "'''\n",
        "Aqui estão algumas operações aritméticas que podem ser realizadas com\n",
        "os arrays numpy\n",
        "'''  \n",
        "\n",
        "if(False):\n",
        "  array_1 = np.array([1, 2, 3], float)\n",
        "  array_2 = np.array([5, 2, 6], float)\n",
        "  print(array_1 + array_2)\n",
        "  print(\"\")\n",
        "  print(array_1 - array_2)\n",
        "  print(\"\")\n",
        "  print(array_1 * array_2)"
      ],
      "execution_count": null,
      "outputs": []
    },
    {
      "cell_type": "markdown",
      "metadata": {
        "id": "KsBz9aBrYUX_"
      },
      "source": [
        "---\n",
        "## Exemplo Pandas\n"
      ]
    },
    {
      "cell_type": "code",
      "metadata": {
        "id": "efLvtNXJYizH",
        "colab": {
          "base_uri": "https://localhost:8080/",
          "height": 101
        },
        "outputId": "eb94836a-ef99-48f6-e943-5fc4e0e0e4ed"
      },
      "source": [
        "from pandas import Series, DataFrame\n",
        "d = {\n",
        "    'name': Series(['Braund','Cummings','Heikkinen','Allen'], index=['a','b','c','d']),\n",
        "    'age': Series([22,38,26,35], index=['a','b','c','d']),\n",
        "    'fare': Series([7.25, 71.83, 8.05], index=['a', 'b', 'd']),\n",
        "    'survived': Series([False, True, True, False], index=['a','b','c','d'])\n",
        "}\n",
        "df = DataFrame(d)\n",
        "print(df)"
      ],
      "execution_count": null,
      "outputs": [
        {
          "output_type": "stream",
          "text": [
            "        name  age   fare  survived\n",
            "a     Braund   22   7.25     False\n",
            "b   Cummings   38  71.83      True\n",
            "c  Heikkinen   26    NaN      True\n",
            "d      Allen   35   8.05     False\n"
          ],
          "name": "stdout"
        }
      ]
    },
    {
      "cell_type": "markdown",
      "metadata": {
        "id": "zicBbUJzJ50D"
      },
      "source": [
        "### Playground de Pandas: Series"
      ]
    },
    {
      "cell_type": "code",
      "metadata": {
        "id": "oWzUZOjQC2JM",
        "colab": {
          "base_uri": "https://localhost:8080/",
          "height": 185
        },
        "outputId": "5f1ccc19-b2be-43bf-8f0f-33caa4acf07f"
      },
      "source": [
        "import pandas as pd\n",
        "\n",
        "'''\n",
        "O código a seguir é para ajudá-los a entender como uma série funciona no pandas.\n",
        "\n",
        "Você pode pensar em Series como um objeto unidimensional que é semelhante a uma \n",
        "matriz, lista ou coluna em um banco de dados. Por padrão, será atribuído um rótulo\n",
        "de índice para cada item da Série, variando de 0 a N, onde N é o número de itens\n",
        "da série menos um.\n",
        "\n",
        "Sinta-se livre para manipular o código para explorar o conceito de série e \n",
        "entender o que é.\n",
        "\n",
        "*This playground is inspired by Greg Reda's post on Intro to Pandas Data Structures:\n",
        "http://www.gregreda.com/2013/10/26/intro-to-pandas-data-structures/\n",
        "'''\n",
        "# Change False to True to create a Series object\n",
        "if(False):\n",
        "  series = pd.Series(['Dave', 'Cheng-Han', 'IFB', 42, -1789710578])\n",
        "  print(series)\n",
        "\n",
        "'''\n",
        "Você também pode atribuir manualmente os índices aos itens da\n",
        "Série ao criá-la.\n",
        "'''\n",
        "# Change False to True to see custom index in action\n",
        "if(False):\n",
        "  series = pd.Series(['Dave', 'Cheng-Han', 359, 9001],\n",
        "                     index=['Instructor', 'Curriculum Manager',\n",
        "                            'Course Number', 'Power Level'])\n",
        "  print(series)\n",
        "\n",
        "'''\n",
        "You can use index to select specific items from the Series\n",
        "'''\n",
        "# Change False to True to see Series indexing in action\n",
        "if(False):\n",
        "  series = pd.Series(['Dave', 'Cheng-Han', 359, 9001],\n",
        "                     index=['Instructor', 'Curriculum Manager',\n",
        "                            'Course Number', 'Power Level'])\n",
        "  print(series['Instructor'])\n",
        "  print(\"\")\n",
        "  print(series[['Instructor', 'Curriculum Manager', 'Course Number']])\n",
        "\n",
        "'''\n",
        "You can also use boolean operators to select specific items from the Series\n",
        "'''\n",
        "# Change False to True to see boolean indexing in action\n",
        "if(False):\n",
        "  cuteness = pd.Series([1, 2, 3, 4, 5], index=['Barata', 'Peixe', 'Porco',\n",
        "                                               'Cachorro', 'Gatinho'])\n",
        "  print(cuteness > 3)\n",
        "  print(\"\")\n",
        "  print(cuteness[cuteness > 3])"
      ],
      "execution_count": null,
      "outputs": [
        {
          "output_type": "stream",
          "text": [
            "Barata      False\n",
            "Peixe       False\n",
            "Porco       False\n",
            "Cachorro     True\n",
            "Gatinho      True\n",
            "dtype: bool\n",
            "\n",
            "Cachorro    4\n",
            "Gatinho     5\n",
            "dtype: int64\n"
          ],
          "name": "stdout"
        }
      ]
    },
    {
      "cell_type": "markdown",
      "metadata": {
        "id": "fUC6ol4wKEF4"
      },
      "source": [
        "### Playground de Pandas: Dataframe"
      ]
    },
    {
      "cell_type": "code",
      "metadata": {
        "id": "eTVD7M38KHRM",
        "colab": {
          "base_uri": "https://localhost:8080/",
          "height": 504
        },
        "outputId": "0868a4ec-a376-437e-d548-ed738b3459aa"
      },
      "source": [
        "import numpy as np\n",
        "import pandas as pd\n",
        "\n",
        "'''\n",
        "O código a seguir ajudará vocês a entender o conceito de Dataframe no Pandas.\n",
        "\n",
        "Você pode pensar em um Dataframe como uma tabela com linhas e colunas.\n",
        "É semelhante a uma planilha, uma tabela de banco de dados ou um objeto\n",
        "data.frame do R.\n",
        "\n",
        "*This playground is inspired by Greg Reda's post on Intro to Pandas Data Structures:\n",
        "http://www.gregreda.com/2013/10/26/intro-to-pandas-data-structures/\n",
        "'''\n",
        "\n",
        "'''\n",
        "To create a dataframe, you can pass a dictionary of lists to the Dataframe\n",
        "constructor:\n",
        "1) The key of the dictionary will be the column name\n",
        "2) The associating list will be the values within that column.\n",
        "'''\n",
        "# Change False to True to see Dataframes in action\n",
        "if(False):\n",
        "  data = {'year': [2010, 2011, 2012, 2011, 2012, 2010, 2011, 2012],\n",
        "          'team': ['Bears', 'Bears', 'Bears', 'Packers', 'Packers', 'Lions', 'Lions', 'Lions'],\n",
        "          'wins': [11, 8, 10, 15, 11, 6, 10, 4],\n",
        "          'losses': [5, 8, 6, 1, 5, 10, 6, 12]}\n",
        "  football = pd.DataFrame(data)\n",
        "  print(football)\n",
        "\n",
        "'''\n",
        "Pandas also has various functions that will help you understand some basic\n",
        "information about your data frame. Some of these functions are:\n",
        "1) dtypes: to get the datatype for each column\n",
        "2) describe: useful for seeing basic statistics of the dataframe's numerical\n",
        "   columns\n",
        "3) head: displays the first five rows of the dataset\n",
        "4) tail: displays the last five rows of the dataset\n",
        "'''\n",
        "# Change False to True to see these functions in action\n",
        "if(True):\n",
        "  data = {'year': [2010, 2011, 2012, 2011, 2012, 2010, 2011, 2012],\n",
        "          'team': ['Bears', 'Bears', 'Bears', 'Packers', 'Packers', 'Lions','Lions', 'Lions'],\n",
        "          'wins': [11, 8, 10, 15, 11, 6, 10, 4],\n",
        "          'losses': [5, 8, 6, 1, 5, 10, 6, 12]}\n",
        "  football = pd.DataFrame(data)\n",
        "  print(football.dtypes)\n",
        "  print(\"\")\n",
        "  print(football.describe())\n",
        "  print(\"\")\n",
        "  print(football.head())\n",
        "  print(\"\")\n",
        "  print(football.tail())"
      ],
      "execution_count": null,
      "outputs": [
        {
          "output_type": "stream",
          "text": [
            "year       int64\n",
            "team      object\n",
            "wins       int64\n",
            "losses     int64\n",
            "dtype: object\n",
            "\n",
            "              year       wins     losses\n",
            "count     8.000000   8.000000   8.000000\n",
            "mean   2011.125000   9.375000   6.625000\n",
            "std       0.834523   3.377975   3.377975\n",
            "min    2010.000000   4.000000   1.000000\n",
            "25%    2010.750000   7.500000   5.000000\n",
            "50%    2011.000000  10.000000   6.000000\n",
            "75%    2012.000000  11.000000   8.500000\n",
            "max    2012.000000  15.000000  12.000000\n",
            "\n",
            "   year     team  wins  losses\n",
            "0  2010    Bears    11       5\n",
            "1  2011    Bears     8       8\n",
            "2  2012    Bears    10       6\n",
            "3  2011  Packers    15       1\n",
            "4  2012  Packers    11       5\n",
            "\n",
            "   year     team  wins  losses\n",
            "3  2011  Packers    15       1\n",
            "4  2012  Packers    11       5\n",
            "5  2010    Lions     6      10\n",
            "6  2011    Lions    10       6\n",
            "7  2012    Lions     4      12\n"
          ],
          "name": "stdout"
        }
      ]
    }
  ]
}